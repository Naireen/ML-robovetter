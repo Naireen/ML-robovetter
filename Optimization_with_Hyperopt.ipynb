{
 "cells": [
  {
   "cell_type": "code",
   "execution_count": 2,
   "metadata": {
    "collapsed": false
   },
   "outputs": [],
   "source": [
    "# try with xgb, see if it performs any better\n",
    "import xgboost as xgb\n",
    "from xgboost import XGBClassifier\n",
    "\n",
    "import numpy as np\n",
    "import sklearn\n",
    "from sklearn.ensemble import RandomForestClassifier\n",
    "import pandas as pd\n",
    "import matplotlib\n",
    "%matplotlib inline\n",
    "from matplotlib import pyplot as plt\n",
    "from sklearn.utils import shuffle\n",
    "from sklearn.model_selection import cross_val_score\n",
    "from sklearn.model_selection import train_test_split\n",
    "from hyperopt import hp, fmin, tpe, STATUS_OK, Trials\n",
    "import time\n",
    "\n",
    "from sklearn import tree\n",
    "from sklearn.tree import export_graphviz\n",
    "from IPython.display import Image \n",
    "import pydotplus"
   ]
  },
  {
   "cell_type": "code",
   "execution_count": 3,
   "metadata": {
    "collapsed": false
   },
   "outputs": [
    {
     "name": "stdout",
     "output_type": "stream",
     "text": [
      "(24213, 97)\n",
      "(18897, 97)\n",
      "(10502, 97)\n",
      "(53612, 97) (53612,)\n"
     ]
    }
   ],
   "source": [
    "# load the other three false positive datasets, and assign your own label\n",
    "fp_Data = [\"kplr_dr25_scr1_robovetter_input.txt\", \"kplr_dr25_inj2_robovetter_input.txt\", \"kplr_dr25_inj3_robovetter_input.txt\"]\n",
    "\n",
    "#################\n",
    "#Class labels, 2 = scrammbled data, 3 = off planet injections, 4 is the injectied ecipsing binaries\n",
    "###############3\n",
    "\n",
    "n = 97 #num of cols\n",
    "total_fp_data = np.empty(shape=[0, n])\n",
    "total_fp_labels = np.empty(shape = [0,1]) # false positives lables\n",
    "for i, file_name in enumerate(fp_Data):\n",
    "    data = np.loadtxt(file_name, dtype=object , skiprows=223 ) \n",
    "    new_data = data[:, 4:] # get rid og the dataset label, TCE_ID, the KIC_ID, and pn\n",
    "    print new_data.shape\n",
    "    new_data = new_data.astype(\"float\") # feautres\n",
    "    total_fp_data = np.append(total_fp_data, new_data, axis = 0)\n",
    "    labels = np.empty(shape=[new_data.shape[0],1])\n",
    "    labels.fill(i+2)\n",
    "    #print labels[0]\n",
    "    total_fp_labels = np.append(total_fp_labels, labels)\n",
    "print total_fp_data.shape, total_fp_labels.shape"
   ]
  },
  {
   "cell_type": "code",
   "execution_count": 4,
   "metadata": {
    "collapsed": false
   },
   "outputs": [
    {
     "name": "stdout",
     "output_type": "stream",
     "text": [
      "(53612,)\n",
      "(45377,)\n"
     ]
    }
   ],
   "source": [
    "false_y = np.zeros(total_fp_data.shape[0])\n",
    "print false_y.shape\n",
    "\n",
    "data = np.loadtxt(\"kplr_dr25_inj1_robovetter_input.txt\", dtype=object , skiprows=223 ) #[223:]\n",
    "pc_data = data[:, 4:]\n",
    "pc_data = pc_data.astype(\"float\") # feautres\n",
    "pc_y = np.ones(pc_data.shape[0])\n",
    "print pc_y.shape"
   ]
  },
  {
   "cell_type": "code",
   "execution_count": 5,
   "metadata": {
    "collapsed": true
   },
   "outputs": [],
   "source": [
    "totalX = np.vstack([total_fp_data, pc_data])\n",
    "totalY = np.hstack([false_y, pc_y])\n",
    "classlabels = np.hstack([total_fp_labels, pc_y])"
   ]
  },
  {
   "cell_type": "code",
   "execution_count": 6,
   "metadata": {
    "collapsed": false,
    "scrolled": true
   },
   "outputs": [
    {
     "name": "stdout",
     "output_type": "stream",
     "text": [
      "['n_plan' 'ntrans' 'nrealt' 'ngoodt' 'iflag0' 'iflag1' 'iflag2' 'iflag3'\n",
      " 'iflag4' 'iflag5' 'cflag0' 'cflag1' 'cflag2' 'cflag3' 'cflag4' 'cflag5'\n",
      " 'cflag6' 'cflag7' 'cflag8' 'ephem_disp' 'cent_disp' 'cent_score' 'period'\n",
      " 'period_err' 'epoch' 'epoch_err' 'duration' 'duration_err' 'impact'\n",
      " 'impact_err' 'depth' 'depth_err' 'depth_alt' 'sma' 'rstar' 'mes'\n",
      " 'ses_to_mes' 'new_mes' 'lpp_dv' 'lpp_alt' 'all_tran_chases' 'sweet_snr'\n",
      " 'sweet_amp' 'shape_metric' 'halo_ghost' 'mod_sig_pri_dv' 'mod_sig_sec_dv'\n",
      " 'mod_sig_ter_dv' 'mod_sig_pos_dv' 'mod_fred_dv' 'mod_fa1_dv' 'mod_fa2_dv'\n",
      " 'mod_sig_pri_alt' 'mod_sig_sec_alt' 'mod_sig_ter_alt' 'mod_sig_pos_alt'\n",
      " 'mod_fred_alt' 'mod_fa1_alt' 'mod_fa2_alt' 'modshiftval1_dv'\n",
      " 'modshiftval2_dv' 'modshiftval3_dv' 'modshiftval4_dv' 'modshiftval5_dv'\n",
      " 'modshiftval6_dv' 'modshiftval1_alt' 'modshiftval2_alt' 'modshiftval3_alt'\n",
      " 'modshiftval4_alt' 'modshiftval5_alt' 'modshiftval6_alt' 'oesig_dv'\n",
      " 'oesig_alt' 'mod_oe_dv' 'mod_oe_alt' 'rp_dv' 'rp_dv_perr' 'rp_dv_merr'\n",
      " 'alb_dv' 'alb_dv_perr' 'alb_dv_merr' 'mod_depth_pri_dv' 'mod_depth_sec_dv'\n",
      " 'mod_ph_sec_dv' 'mod_ph_ter_dv' 'rp_alt' 'rp_alt_perr' 'rp_alt_merr'\n",
      " 'alb_alt' 'alb_alt_perr' 'alb_alt_merr' 'mod_depth_pri_alt'\n",
      " 'mod_depth_sec_alt' 'mod_ph_sec_alt' 'mod_ph_ter_alt' 'sdepthsig_dv'\n",
      " 'sdepthsig_alt']\n"
     ]
    }
   ],
   "source": [
    "#print rfc.feature_importances_\n",
    "#load labels, create pandaframe, and then run a fit to determine the most important features\n",
    "data = pd.read_table(\"kplr_dr25_inj1_robovetter_input.txt\",  skiprows=219 , sep= \"|\", nrows=1) #[223:]\n",
    "data.rename(columns=lambda x: x.strip(), inplace=True)\n",
    "del data[\"Unnamed: 0\"]\n",
    "del data[\"Unnamed: 102\"]\n",
    "del data[\"Data_Set\"]\n",
    "#print data.columns.values\n",
    "del data[\"TCE_ID\"]\n",
    "del data[\"KIC\"]\n",
    "del data[\"pn\"]\n",
    "\n",
    "\n",
    "\n",
    "vals = data.columns.values\n",
    "print vals\n",
    "totalX = pd.DataFrame(totalX, columns=vals)\n",
    "#labelled_data.head()\n",
    "\n"
   ]
  },
  {
   "cell_type": "code",
   "execution_count": 7,
   "metadata": {
    "collapsed": true
   },
   "outputs": [],
   "source": [
    "#shuffle then split\n",
    "shuffleX, shuffleY, shuffle_labels = shuffle(totalX, totalY, classlabels, random_state = 0)\n"
   ]
  },
  {
   "cell_type": "code",
   "execution_count": 8,
   "metadata": {
    "collapsed": false
   },
   "outputs": [
    {
     "name": "stdout",
     "output_type": "stream",
     "text": [
      "(9898, 97) (9898,)\n",
      "[0]\ttrain-auc:0.858053+0.00330574\ttest-auc:0.852892+0.00830541\n",
      "[1]\ttrain-auc:0.909551+0.00269349\ttest-auc:0.907212+0.00545867\n",
      "[2]\ttrain-auc:0.910299+0.00286816\ttest-auc:0.908644+0.00582347\n",
      "[3]\ttrain-auc:0.915719+0.00204672\ttest-auc:0.914229+0.00465999\n",
      "[4]\ttrain-auc:0.923309+0.0064821\ttest-auc:0.919895+0.00513788\n",
      "[5]\ttrain-auc:0.928964+0.0059842\ttest-auc:0.926043+0.00567649\n",
      "[6]\ttrain-auc:0.93348+0.00509367\ttest-auc:0.931157+0.00829775\n",
      "[7]\ttrain-auc:0.937261+0.00246061\ttest-auc:0.934034+0.00847346\n",
      "[8]\ttrain-auc:0.942107+0.00194295\ttest-auc:0.939296+0.00378582\n",
      "[9]\ttrain-auc:0.94265+0.0016875\ttest-auc:0.939281+0.00349076\n",
      "0.906449674348\n",
      "0.893653567821\n"
     ]
    }
   ],
   "source": [
    "# take samples of the data to see the minimum needed for good performance\n",
    "sampleX, ignoreX, sampleY,  ignoreY = train_test_split(shuffleX , shuffleY, stratify = totalY, random_state = 5, \n",
    "                                                      train_size = 0.1)\n",
    "print sampleX.shape, sampleY.shape\n",
    "xgb_c = XGBClassifier(n_estimators=100, seed = 0, min_child_weight=5, colsample_bytree=0.8)\n",
    "size_dtrain = xgb.DMatrix(sampleX, label=sampleY)\n",
    "xgb_params = xgb_c.get_xgb_params()\n",
    "\n",
    "score = xgb.cv(xgb_params, nfold=5, dtrain=size_dtrain,  metrics=\"auc\",\n",
    "                   stratified=True, early_stopping_rounds=20, verbose_eval=True, seed=0)\n",
    "xgb_c.fit(sampleX, sampleY)\n",
    "preds = xgb_c.predict(ignoreX)\n",
    "score = sklearn.metrics.average_precision_score(ignoreY, preds)\n",
    "print score\n",
    "score = sklearn.metrics.roc_auc_score(ignoreY, preds)\n",
    "print score"
   ]
  },
  {
   "cell_type": "code",
   "execution_count": 9,
   "metadata": {
    "collapsed": false
   },
   "outputs": [
    {
     "name": "stdout",
     "output_type": "stream",
     "text": [
      "(79191, 97) (19798, 97)\n"
     ]
    }
   ],
   "source": [
    "#create holdout set\n",
    "keepX,  holdoutX, keepY, holdoutY , keep_labels, holdout_labels= train_test_split(shuffleX, shuffleY, shuffle_labels, test_size = 0.2, random_state = 0)\n",
    "print keepX.shape, holdoutX.shape"
   ]
  },
  {
   "cell_type": "code",
   "execution_count": 10,
   "metadata": {
    "collapsed": false
   },
   "outputs": [
    {
     "name": "stdout",
     "output_type": "stream",
     "text": [
      "0.920309575301\n",
      "Precision 0.88037829973\n",
      "Recall 0.926095987756\n"
     ]
    }
   ],
   "source": [
    "# work with the top 20 features determined by xgb, as well as the features determined by the Robovetter team\n",
    "xgbc = XGBClassifier(n_estimators=100, max_depth=10, subsample=0.9, seed=0)\n",
    "\n",
    "#rfc = RandomForestClassifier(random_state=0, n_estimators=100, max_depth=10)\n",
    "start = time.time()\n",
    "#score = cross_val_score(rfc, keepX, keepY, cv = 5, scoring=\"average_precision\", verbose=True )\n",
    "xgb_params = xgbc.get_xgb_params()\n",
    "dtrain = xgb.DMatrix(keepX, label=keepY)\n",
    "#score = xgb.cv(xgb_params, nfold=5, dtrain=dtrain,  metrics=\"auc\",\n",
    "#               stratified=True, early_stopping_rounds=20, verbose_eval=True, seed=30)\n",
    "\n",
    "xgbc.fit(keepX, keepY)\n",
    "preds =xgbc.predict(holdoutX) \n",
    "score = sklearn.metrics.average_precision_score(holdoutY, preds)\n",
    "print score \n",
    "score = sklearn.metrics.precision_score(holdoutY, preds)\n",
    "print \"Precision\", score\n",
    "score = sklearn.metrics.recall_score(holdoutY, preds)\n",
    "print \"Recall\", score"
   ]
  },
  {
   "cell_type": "code",
   "execution_count": 11,
   "metadata": {
    "collapsed": false
   },
   "outputs": [
    {
     "data": {
      "image/png": "[encoded data removed]",
      "text/plain": [
       "<matplotlib.figure.Figure at 0x7f13c4d903d0>"
      ]
     },
     "metadata": {},
     "output_type": "display_data"
    }
   ],
   "source": [
    "# feature importances\n",
    "feat_imp = pd.Series(xgbc.booster().get_fscore()).sort_values(ascending=False)\n",
    "feat_imp.plot(kind='bar', title='Feature Importances', figsize=(12,8))\n",
    "plt.ylabel('Feature Importance Score')\n",
    "plt.show()"
   ]
  },
  {
   "cell_type": "code",
   "execution_count": 89,
   "metadata": {
    "collapsed": false
   },
   "outputs": [
    {
     "name": "stdout",
     "output_type": "stream",
     "text": [
      "halo_ghost          727\n",
      "lpp_dv              584\n",
      "cent_score          584\n",
      "lpp_alt             475\n",
      "mod_ph_sec_dv       474\n",
      "mes                 453\n",
      "modshiftval1_dv     447\n",
      "duration            446\n",
      "ses_to_mes          418\n",
      "mod_oe_dv           415\n",
      "modshiftval6_dv     397\n",
      "modshiftval6_alt    389\n",
      "modshiftval5_dv     387\n",
      "mod_ph_sec_alt      387\n",
      "mod_oe_alt          372\n",
      "sweet_amp           372\n",
      "rstar               371\n",
      "modshiftval4_alt    363\n",
      "mod_ph_ter_alt      358\n",
      "epoch               356\n",
      "dtype: int64\n"
     ]
    }
   ],
   "source": [
    "print feat_imp[:20]\n",
    "xgb_imp_feat = list(feat_imp[:40].index)"
   ]
  },
  {
   "cell_type": "code",
   "execution_count": 12,
   "metadata": {
    "collapsed": false
   },
   "outputs": [
    {
     "name": "stdout",
     "output_type": "stream",
     "text": [
      "[96 14 83 78 11 12 70 32 11  9]\n"
     ]
    }
   ],
   "source": [
    "seeds = np.random.randint(100, size=10)\n",
    "print seeds"
   ]
  },
  {
   "cell_type": "code",
   "execution_count": 37,
   "metadata": {
    "collapsed": false,
    "scrolled": true
   },
   "outputs": [
    {
     "name": "stdout",
     "output_type": "stream",
     "text": [
      "[0]\ttrain-auc:0.953268+0.000939747\ttest-auc:0.945645+0.00173728\n",
      "[1]\ttrain-auc:0.956179+0.00043019\ttest-auc:0.948744+0.000975845\n",
      "[2]\ttrain-auc:0.957573+0.000573388\ttest-auc:0.95009+0.000894179\n",
      "[3]\ttrain-auc:0.958719+0.000306624\ttest-auc:0.951138+0.00127565\n",
      "[4]\ttrain-auc:0.959365+0.000317166\ttest-auc:0.951677+0.00127698\n",
      "[5]\ttrain-auc:0.960056+0.000387564\ttest-auc:0.952127+0.00126962\n",
      "[6]\ttrain-auc:0.960822+0.000442147\ttest-auc:0.952684+0.00112738\n",
      "[7]\ttrain-auc:0.961454+0.000380545\ttest-auc:0.953052+0.00113584\n",
      "[8]\ttrain-auc:0.962254+0.000330022\ttest-auc:0.953451+0.00108344\n",
      "[9]\ttrain-auc:0.962802+0.000343034\ttest-auc:0.953769+0.00106532\n",
      "   test-auc-mean  test-auc-std  train-auc-mean  train-auc-std\n",
      "0       0.945645      0.001737        0.953268       0.000940\n",
      "1       0.948744      0.000976        0.956179       0.000430\n",
      "2       0.950090      0.000894        0.957573       0.000573\n",
      "3       0.951138      0.001276        0.958719       0.000307\n",
      "4       0.951677      0.001277        0.959365       0.000317\n",
      "5       0.952127      0.001270        0.960056       0.000388\n",
      "6       0.952684      0.001127        0.960822       0.000442\n",
      "7       0.953052      0.001136        0.961454       0.000381\n",
      "8       0.953451      0.001083        0.962254       0.000330\n",
      "9       0.953769      0.001065        0.962802       0.000343\n",
      "Average score test-auc-mean     0.951238\n",
      "test-auc-std      0.001184\n",
      "train-auc-mean    0.959249\n",
      "train-auc-std     0.000445\n",
      "dtype: float64 Standard Deviation test-auc-mean     0.002377\n",
      "test-auc-std      0.000221\n",
      "train-auc-mean    0.002792\n",
      "train-auc-std     0.000181\n",
      "dtype: float64\n",
      "Total evaluation time 25.048503\n",
      "[0.9512376]\n",
      "[0]\ttrain-auc:0.95297+0.000255245\ttest-auc:0.945194+0.00164675\n",
      "[1]\ttrain-auc:0.955576+0.000359799\ttest-auc:0.947862+0.00176547\n",
      "[2]\ttrain-auc:0.957126+0.000314733\ttest-auc:0.949324+0.00161606\n",
      "[3]\ttrain-auc:0.958583+0.000161893\ttest-auc:0.950545+0.00155567\n",
      "[4]\ttrain-auc:0.959652+0.000144315\ttest-auc:0.95136+0.00151944\n",
      "[5]\ttrain-auc:0.960389+0.000293631\ttest-auc:0.951944+0.00142865\n",
      "[6]\ttrain-auc:0.961017+0.000229573\ttest-auc:0.952519+0.00138882\n",
      "[7]\ttrain-auc:0.96167+0.000345168\ttest-auc:0.952802+0.0013141\n",
      "[8]\ttrain-auc:0.962374+0.000355095\ttest-auc:0.953259+0.00124629\n",
      "[9]\ttrain-auc:0.962872+0.000353199\ttest-auc:0.953469+0.0013126\n",
      "   test-auc-mean  test-auc-std  train-auc-mean  train-auc-std\n",
      "0       0.945194      0.001647        0.952970       0.000255\n",
      "1       0.947862      0.001765        0.955576       0.000360\n",
      "2       0.949324      0.001616        0.957126       0.000315\n",
      "3       0.950545      0.001556        0.958583       0.000162\n",
      "4       0.951360      0.001519        0.959652       0.000144\n",
      "5       0.951944      0.001429        0.960389       0.000294\n",
      "6       0.952519      0.001389        0.961017       0.000230\n",
      "7       0.952802      0.001314        0.961670       0.000345\n",
      "8       0.953259      0.001246        0.962374       0.000355\n",
      "9       0.953469      0.001313        0.962872       0.000353\n",
      "Average score test-auc-mean     0.950828\n",
      "test-auc-std      0.001479\n",
      "train-auc-mean    0.959223\n",
      "train-auc-std     0.000281\n",
      "dtype: float64 Standard Deviation test-auc-mean     0.002531\n",
      "test-auc-std      0.000160\n",
      "train-auc-mean    0.003020\n",
      "train-auc-std     0.000076\n",
      "dtype: float64\n",
      "Total evaluation time 29.459182\n",
      "[0.9512376, 0.95082774]\n",
      "[0]\ttrain-auc:0.953689+0.000502984\ttest-auc:0.945604+0.00118972\n",
      "[1]\ttrain-auc:0.955947+0.000683798\ttest-auc:0.948116+0.00129522\n",
      "[2]\ttrain-auc:0.957751+0.000304793\ttest-auc:0.949938+0.000800195\n",
      "[3]\ttrain-auc:0.958729+0.000106901\ttest-auc:0.950955+0.000849819\n",
      "[4]\ttrain-auc:0.959652+0.000193047\ttest-auc:0.951423+0.000655347\n",
      "[5]\ttrain-auc:0.960273+0.000323909\ttest-auc:0.951854+0.000726431\n",
      "[6]\ttrain-auc:0.960851+0.000329112\ttest-auc:0.952187+0.000567328\n",
      "[7]\ttrain-auc:0.961622+0.000310507\ttest-auc:0.952832+0.00047006\n",
      "[8]\ttrain-auc:0.962138+0.000349667\ttest-auc:0.953102+0.000385379\n",
      "[9]\ttrain-auc:0.962727+0.000269413\ttest-auc:0.953337+0.000386001\n",
      "   test-auc-mean  test-auc-std  train-auc-mean  train-auc-std\n",
      "0       0.945604      0.001190        0.953689       0.000503\n",
      "1       0.948116      0.001295        0.955947       0.000684\n",
      "2       0.949938      0.000800        0.957751       0.000305\n",
      "3       0.950955      0.000850        0.958729       0.000107\n",
      "4       0.951423      0.000655        0.959652       0.000193\n",
      "5       0.951854      0.000726        0.960273       0.000324\n",
      "6       0.952187      0.000567        0.960851       0.000329\n",
      "7       0.952832      0.000470        0.961622       0.000311\n",
      "8       0.953102      0.000385        0.962138       0.000350\n",
      "9       0.953337      0.000386        0.962727       0.000269\n",
      "Average score test-auc-mean     0.950935\n",
      "test-auc-std      0.000733\n",
      "train-auc-mean    0.959338\n",
      "train-auc-std     0.000337\n",
      "dtype: float64 Standard Deviation test-auc-mean     0.002326\n",
      "test-auc-std      0.000298\n",
      "train-auc-mean    0.002722\n",
      "train-auc-std     0.000151\n",
      "dtype: float64\n",
      "Total evaluation time 25.767967\n",
      "[0.9512376, 0.95082774, 0.9509348799999999]\n",
      "[0]\ttrain-auc:0.953366+0.000386136\ttest-auc:0.945546+0.00166674\n",
      "[1]\ttrain-auc:0.956215+0.00080992\ttest-auc:0.948212+0.00116639\n",
      "[2]\ttrain-auc:0.957706+0.000733349\ttest-auc:0.949537+0.000819929\n",
      "[3]\ttrain-auc:0.958745+0.000320079\ttest-auc:0.950633+0.00103054\n",
      "[4]\ttrain-auc:0.959598+0.00043921\ttest-auc:0.951425+0.00129492\n",
      "[5]\ttrain-auc:0.960222+0.000350858\ttest-auc:0.951772+0.00150566\n",
      "[6]\ttrain-auc:0.960857+0.000451284\ttest-auc:0.952239+0.00138047\n",
      "[7]\ttrain-auc:0.961493+0.000338517\ttest-auc:0.952464+0.00124906\n",
      "[8]\ttrain-auc:0.962261+0.000394075\ttest-auc:0.95295+0.00103022\n",
      "[9]\ttrain-auc:0.962782+0.000465929\ttest-auc:0.953228+0.00105626\n",
      "   test-auc-mean  test-auc-std  train-auc-mean  train-auc-std\n",
      "0       0.945546      0.001667        0.953366       0.000386\n",
      "1       0.948212      0.001166        0.956215       0.000810\n",
      "2       0.949537      0.000820        0.957706       0.000733\n",
      "3       0.950633      0.001031        0.958745       0.000320\n",
      "4       0.951425      0.001295        0.959598       0.000439\n",
      "5       0.951772      0.001506        0.960222       0.000351\n",
      "6       0.952239      0.001380        0.960857       0.000451\n",
      "7       0.952464      0.001249        0.961493       0.000339\n",
      "8       0.952950      0.001030        0.962261       0.000394\n",
      "9       0.953228      0.001056        0.962782       0.000466\n",
      "Average score test-auc-mean     0.950801\n",
      "test-auc-std      0.001220\n",
      "train-auc-mean    0.959324\n",
      "train-auc-std     0.000469\n",
      "dtype: float64 Standard Deviation test-auc-mean     0.002294\n",
      "test-auc-std      0.000240\n",
      "train-auc-mean    0.002768\n",
      "train-auc-std     0.000159\n",
      "dtype: float64\n",
      "Total evaluation time 27.139261\n",
      "[0.9512376, 0.95082774, 0.9509348799999999, 0.9508005800000001]\n",
      "[0]\ttrain-auc:0.953795+0.000877116\ttest-auc:0.946185+0.00109988\n",
      "[1]\ttrain-auc:0.956373+0.000892921\ttest-auc:0.948854+0.00140743\n",
      "[2]\ttrain-auc:0.957691+0.000805636\ttest-auc:0.950149+0.00145117\n",
      "[3]\ttrain-auc:0.95862+0.00081478\ttest-auc:0.950991+0.00124965\n",
      "[4]\ttrain-auc:0.959667+0.000353405\ttest-auc:0.951741+0.00102367\n",
      "[5]\ttrain-auc:0.9604+0.000271549\ttest-auc:0.952066+0.000956764\n",
      "[6]\ttrain-auc:0.960979+0.000198411\ttest-auc:0.952434+0.000948849\n",
      "[7]\ttrain-auc:0.961602+0.000304642\ttest-auc:0.952831+0.000929199\n",
      "[8]\ttrain-auc:0.962152+0.000331652\ttest-auc:0.953156+0.000819132\n",
      "[9]\ttrain-auc:0.962621+0.00031468\ttest-auc:0.953443+0.000864154\n",
      "   test-auc-mean  test-auc-std  train-auc-mean  train-auc-std\n",
      "0       0.946185      0.001100        0.953795       0.000877\n",
      "1       0.948854      0.001407        0.956373       0.000893\n",
      "2       0.950149      0.001451        0.957691       0.000806\n",
      "3       0.950991      0.001250        0.958620       0.000815\n",
      "4       0.951741      0.001024        0.959667       0.000353\n",
      "5       0.952066      0.000957        0.960400       0.000272\n",
      "6       0.952434      0.000949        0.960979       0.000198\n",
      "7       0.952831      0.000929        0.961602       0.000305\n",
      "8       0.953156      0.000819        0.962152       0.000332\n",
      "9       0.953443      0.000864        0.962621       0.000315\n",
      "Average score test-auc-mean     0.951185\n",
      "test-auc-std      0.001075\n",
      "train-auc-mean    0.959390\n",
      "train-auc-std     0.000516\n",
      "dtype: float64 Standard Deviation test-auc-mean     0.002142\n",
      "test-auc-std      0.000211\n",
      "train-auc-mean    0.002654\n",
      "train-auc-std     0.000274\n",
      "dtype: float64\n",
      "Total evaluation time 26.906340\n",
      "[0.9512376, 0.95082774, 0.9509348799999999, 0.9508005800000001, 0.9511850199999999]\n",
      "[0]\ttrain-auc:0.953367+0.000808761\ttest-auc:0.945443+0.00137251\n",
      "[1]\ttrain-auc:0.956329+0.000437419\ttest-auc:0.948868+0.00187281\n",
      "[2]\ttrain-auc:0.957837+0.000414825\ttest-auc:0.950293+0.00191539\n",
      "[3]\ttrain-auc:0.958745+0.000497923\ttest-auc:0.950933+0.00172717\n",
      "[4]\ttrain-auc:0.959588+0.000717239\ttest-auc:0.95148+0.001568\n",
      "[5]\ttrain-auc:0.960263+0.000456991\ttest-auc:0.952047+0.00177004\n",
      "[6]\ttrain-auc:0.960906+0.000596992\ttest-auc:0.952476+0.0015645\n",
      "[7]\ttrain-auc:0.961496+0.00061066\ttest-auc:0.952902+0.00150119\n",
      "[8]\ttrain-auc:0.962082+0.000450367\ttest-auc:0.953226+0.0015616\n",
      "[9]\ttrain-auc:0.962903+0.000509443\ttest-auc:0.953726+0.00151249\n",
      "   test-auc-mean  test-auc-std  train-auc-mean  train-auc-std\n",
      "0       0.945443      0.001373        0.953367       0.000809\n",
      "1       0.948868      0.001873        0.956329       0.000437\n",
      "2       0.950293      0.001915        0.957837       0.000415\n",
      "3       0.950933      0.001727        0.958745       0.000498\n",
      "4       0.951480      0.001568        0.959588       0.000717\n",
      "5       0.952047      0.001770        0.960263       0.000457\n",
      "6       0.952476      0.001564        0.960906       0.000597\n",
      "7       0.952902      0.001501        0.961496       0.000611\n",
      "8       0.953226      0.001562        0.962082       0.000450\n",
      "9       0.953726      0.001512        0.962903       0.000509\n",
      "Average score test-auc-mean     0.951139\n",
      "test-auc-std      0.001637\n",
      "train-auc-mean    0.959352\n",
      "train-auc-std     0.000550\n",
      "dtype: float64 Standard Deviation test-auc-mean     0.002350\n",
      "test-auc-std      0.000167\n",
      "train-auc-mean    0.002749\n",
      "train-auc-std     0.000124\n",
      "dtype: float64\n",
      "Total evaluation time 26.009277\n",
      "[0.9512376, 0.95082774, 0.9509348799999999, 0.9508005800000001, 0.9511850199999999, 0.9511392600000003]\n",
      "[0]\ttrain-auc:0.953332+0.000770502\ttest-auc:0.945374+0.00124345\n",
      "[1]\ttrain-auc:0.955833+0.000589715\ttest-auc:0.94821+0.00129737\n",
      "[2]\ttrain-auc:0.957197+0.000579084\ttest-auc:0.949669+0.00156943\n",
      "[3]\ttrain-auc:0.958564+0.000398116\ttest-auc:0.950681+0.00150597\n",
      "[4]\ttrain-auc:0.959427+0.000477401\ttest-auc:0.951495+0.00137722\n",
      "[5]\ttrain-auc:0.960246+0.000234852\ttest-auc:0.952127+0.00155363\n",
      "[6]\ttrain-auc:0.960842+0.000173009\ttest-auc:0.952452+0.00150866\n",
      "[7]\ttrain-auc:0.961565+0.000122643\ttest-auc:0.952933+0.00159374\n",
      "[8]\ttrain-auc:0.962151+0.000175421\ttest-auc:0.953279+0.00152059\n",
      "[9]\ttrain-auc:0.962739+0.000300267\ttest-auc:0.9536+0.00145761\n",
      "   test-auc-mean  test-auc-std  train-auc-mean  train-auc-std\n",
      "0       0.945374      0.001243        0.953332       0.000771\n",
      "1       0.948210      0.001297        0.955833       0.000590\n",
      "2       0.949669      0.001569        0.957197       0.000579\n",
      "3       0.950681      0.001506        0.958564       0.000398\n",
      "4       0.951495      0.001377        0.959427       0.000477\n",
      "5       0.952127      0.001554        0.960246       0.000235\n",
      "6       0.952452      0.001509        0.960842       0.000173\n",
      "7       0.952933      0.001594        0.961565       0.000123\n",
      "8       0.953279      0.001521        0.962151       0.000175\n",
      "9       0.953600      0.001458        0.962739       0.000300\n",
      "Average score test-auc-mean     0.950982\n",
      "test-auc-std      0.001463\n",
      "train-auc-mean    0.959190\n",
      "train-auc-std     0.000382\n",
      "dtype: float64 Standard Deviation test-auc-mean     0.002462\n",
      "test-auc-std      0.000113\n",
      "train-auc-mean    0.002844\n",
      "train-auc-std     0.000206\n",
      "dtype: float64\n",
      "Total evaluation time 24.780885\n",
      "[0.9512376, 0.95082774, 0.9509348799999999, 0.9508005800000001, 0.9511850199999999, 0.9511392600000003, 0.9509819800000001]\n",
      "[0]\ttrain-auc:0.953264+0.000413603\ttest-auc:0.944986+0.00118795\n",
      "[1]\ttrain-auc:0.956355+0.000484653\ttest-auc:0.948564+0.00138504\n",
      "[2]\ttrain-auc:0.957931+0.000532908\ttest-auc:0.950373+0.00131482\n",
      "[3]\ttrain-auc:0.958682+0.00053111\ttest-auc:0.950936+0.00139405\n",
      "[4]\ttrain-auc:0.959485+0.000395976\ttest-auc:0.95162+0.00144173\n",
      "[5]\ttrain-auc:0.960205+0.000622513\ttest-auc:0.952151+0.00136515\n",
      "[6]\ttrain-auc:0.961002+0.000452108\ttest-auc:0.952709+0.00126298\n",
      "[7]\ttrain-auc:0.961549+0.000385958\ttest-auc:0.95308+0.00139877\n",
      "[8]\ttrain-auc:0.962185+0.000391732\ttest-auc:0.953553+0.00157196\n",
      "[9]\ttrain-auc:0.962826+0.000355938\ttest-auc:0.953931+0.00149094\n",
      "   test-auc-mean  test-auc-std  train-auc-mean  train-auc-std\n",
      "0       0.944986      0.001188        0.953264       0.000414\n",
      "1       0.948564      0.001385        0.956355       0.000485\n",
      "2       0.950373      0.001315        0.957931       0.000533\n",
      "3       0.950936      0.001394        0.958682       0.000531\n",
      "4       0.951620      0.001442        0.959485       0.000396\n",
      "5       0.952151      0.001365        0.960205       0.000623\n",
      "6       0.952709      0.001263        0.961002       0.000452\n",
      "7       0.953080      0.001399        0.961549       0.000386\n",
      "8       0.953553      0.001572        0.962185       0.000392\n",
      "9       0.953931      0.001491        0.962826       0.000356\n",
      "Average score test-auc-mean     0.951190\n",
      "test-auc-std      0.001381\n",
      "train-auc-mean    0.959348\n",
      "train-auc-std     0.000457\n",
      "dtype: float64 Standard Deviation test-auc-mean     0.002573\n",
      "test-auc-std      0.000104\n",
      "train-auc-mean    0.002773\n",
      "train-auc-std     0.000080\n",
      "dtype: float64\n",
      "Total evaluation time 25.884646\n",
      "[0.9512376, 0.95082774, 0.9509348799999999, 0.9508005800000001, 0.9511850199999999, 0.9511392600000003, 0.9509819800000001, 0.9511904400000001]\n",
      "[0]\ttrain-auc:0.953793+0.000413782\ttest-auc:0.945722+0.00220023\n",
      "[1]\ttrain-auc:0.956291+0.000242942\ttest-auc:0.94842+0.00251521\n",
      "[2]\ttrain-auc:0.957544+0.000357322\ttest-auc:0.949578+0.00233359\n",
      "[3]\ttrain-auc:0.958432+0.000192127\ttest-auc:0.950442+0.00235673\n",
      "[4]\ttrain-auc:0.959324+0.000271762\ttest-auc:0.951159+0.00228918\n",
      "[5]\ttrain-auc:0.960049+0.00026881\ttest-auc:0.951845+0.00204934\n",
      "[6]\ttrain-auc:0.96075+0.000279793\ttest-auc:0.952363+0.00183304\n",
      "[7]\ttrain-auc:0.961461+0.000356803\ttest-auc:0.952859+0.00179471\n",
      "[8]\ttrain-auc:0.962112+0.000299173\ttest-auc:0.953179+0.00183661\n",
      "[9]\ttrain-auc:0.962765+0.000214905\ttest-auc:0.953511+0.00175886\n",
      "   test-auc-mean  test-auc-std  train-auc-mean  train-auc-std\n",
      "0       0.945722      0.002200        0.953793       0.000414\n",
      "1       0.948420      0.002515        0.956291       0.000243\n",
      "2       0.949578      0.002334        0.957544       0.000357\n",
      "3       0.950442      0.002357        0.958432       0.000192\n",
      "4       0.951159      0.002289        0.959324       0.000272\n",
      "5       0.951845      0.002049        0.960049       0.000269\n",
      "6       0.952363      0.001833        0.960750       0.000280\n",
      "7       0.952859      0.001795        0.961461       0.000357\n",
      "8       0.953179      0.001837        0.962112       0.000299\n",
      "9       0.953511      0.001759        0.962765       0.000215\n",
      "Average score test-auc-mean     0.950908\n",
      "test-auc-std      0.002097\n",
      "train-auc-mean    0.959252\n",
      "train-auc-std     0.000290\n",
      "dtype: float64 Standard Deviation test-auc-mean     0.002321\n",
      "test-auc-std      0.000263\n",
      "train-auc-mean    0.002654\n",
      "train-auc-std     0.000065\n",
      "dtype: float64\n",
      "Total evaluation time 26.513536\n",
      "[0.9512376, 0.95082774, 0.9509348799999999, 0.9508005800000001, 0.9511850199999999, 0.9511392600000003, 0.9509819800000001, 0.9511904400000001, 0.95090782]\n",
      "[0]\ttrain-auc:0.953139+0.000402355\ttest-auc:0.944968+0.00140874\n",
      "[1]\ttrain-auc:0.955854+0.000424441\ttest-auc:0.948113+0.000992657\n",
      "[2]\ttrain-auc:0.957574+0.00050135\ttest-auc:0.949816+0.000794561\n",
      "[3]\ttrain-auc:0.958743+0.000409526\ttest-auc:0.950918+0.00068101\n",
      "[4]\ttrain-auc:0.959573+0.000308966\ttest-auc:0.951555+0.000730028\n",
      "[5]\ttrain-auc:0.960237+0.000282959\ttest-auc:0.952143+0.000581991\n",
      "[6]\ttrain-auc:0.961004+0.000285514\ttest-auc:0.952752+0.000644934\n",
      "[7]\ttrain-auc:0.961531+0.000195676\ttest-auc:0.952975+0.000541477\n",
      "[8]\ttrain-auc:0.962064+0.000244054\ttest-auc:0.953248+0.000533426\n",
      "[9]\ttrain-auc:0.962685+0.000274651\ttest-auc:0.953566+0.000528999\n",
      "   test-auc-mean  test-auc-std  train-auc-mean  train-auc-std\n",
      "0       0.944968      0.001409        0.953139       0.000402\n",
      "1       0.948113      0.000993        0.955854       0.000424\n",
      "2       0.949816      0.000795        0.957574       0.000501\n",
      "3       0.950918      0.000681        0.958743       0.000410\n",
      "4       0.951555      0.000730        0.959573       0.000309\n",
      "5       0.952143      0.000582        0.960237       0.000283\n",
      "6       0.952752      0.000645        0.961004       0.000286\n",
      "7       0.952975      0.000541        0.961531       0.000196\n",
      "8       0.953248      0.000533        0.962064       0.000244\n",
      "9       0.953566      0.000529        0.962685       0.000275\n",
      "Average score test-auc-mean     0.951005\n",
      "test-auc-std      0.000744\n",
      "train-auc-mean    0.959240\n",
      "train-auc-std     0.000333\n",
      "dtype: float64 Standard Deviation test-auc-mean     0.002576\n",
      "test-auc-std      0.000260\n",
      "train-auc-mean    0.002846\n",
      "train-auc-std     0.000091\n",
      "dtype: float64\n",
      "Total evaluation time 24.680485\n",
      "[0.9512376, 0.95082774, 0.9509348799999999, 0.9508005800000001, 0.9511850199999999, 0.9511392600000003, 0.9509819800000001, 0.9511904400000001, 0.95090782, 0.9510053599999999]\n"
     ]
    }
   ],
   "source": [
    "xgbc = XGBClassifier(n_estimators=100, max_depth=10, subsample=0.9, seed=0)\n",
    "mean_test_auc = []\n",
    "\n",
    "for rand_Seed in seeds:\n",
    "    #rfc = RandomForestClassifier(random_state=0, n_estimators=100, max_depth=10)\n",
    "    start = time.time()\n",
    "    #score = cross_val_score(rfc, keepX, keepY, cv = 5, scoring=\"average_precision\", verbose=True )\n",
    "    xgb_params = xgbc.get_xgb_params()\n",
    "    dtrain = xgb.DMatrix(keepX, label=keepY)\n",
    "    score = xgb.cv(xgb_params, nfold=5, dtrain=dtrain,  metrics=\"auc\",\n",
    "                   stratified=True, early_stopping_rounds=20, verbose_eval=True, seed=rand_Seed)\n",
    "    print score \n",
    "    print \"Average score\", np.mean(score), \"Standard Deviation\", np.std(score)\n",
    "    end = time.time()\n",
    "    print(\"Total evaluation time %f\" % (end - start))\n",
    "    mean_test_auc.append(np.mean(score[\"test-auc-mean\"]))\n",
    "    print mean_test_auc"
   ]
  },
  {
   "cell_type": "markdown",
   "metadata": {},
   "source": [
    "Begin parameter tuning with hyperopt"
   ]
  },
  {
   "cell_type": "code",
   "execution_count": 19,
   "metadata": {
    "collapsed": false,
    "scrolled": true
   },
   "outputs": [
    {
     "name": "stdout",
     "output_type": "stream",
     "text": [
      "[0]\ttrain-error:0.096485+0.00106527\ttest-error:0.112879+0.00219787\n",
      "[1]\ttrain-error:0.0921316+0.00112974\ttest-error:0.108346+0.00143887\n",
      "[2]\ttrain-error:0.090569+0.00162261\ttest-error:0.106767+0.00122034\n",
      "[3]\ttrain-error:0.0888294+0.00138739\ttest-error:0.105529+0.000686594\n",
      "[4]\ttrain-error:0.0883686+0.00161286\ttest-error:0.104898+0.000673587\n",
      "[5]\ttrain-error:0.0872164+0.00132474\ttest-error:0.104557+0.000987483\n",
      "[6]\ttrain-error:0.0864586+0.00140222\ttest-error:0.104381+0.000830277\n",
      "[7]\ttrain-error:0.0857198+0.00158138\ttest-error:0.102928+0.000602079\n",
      "[8]\ttrain-error:0.0852338+0.00138512\ttest-error:0.102815+0.000619278\n",
      "[9]\ttrain-error:0.0845772+0.00127768\ttest-error:0.102575+0.000872057\n",
      "[0]\ttrain-error:0.0966806+0.000666386\ttest-error:0.111818+0.00234915\n",
      "[1]\ttrain-error:0.0929714+0.00112397\ttest-error:0.108598+0.00144344\n",
      "[2]\ttrain-error:0.0906288+0.000597942\ttest-error:0.10683+0.00197602\n",
      "[3]\ttrain-error:0.0891138+0.000392393\ttest-error:0.10635+0.00234471\n",
      "[4]\ttrain-error:0.0882014+0.000688647\ttest-error:0.105568+0.0023583\n",
      "[5]\ttrain-error:0.0875004+0.000803897\ttest-error:0.105087+0.00262137\n",
      "[6]\ttrain-error:0.0867902+0.000660612\ttest-error:0.104216+0.00204298\n",
      "[7]\ttrain-error:0.0858402+0.000586799\ttest-error:0.103951+0.00202065\n",
      "[8]\ttrain-error:0.0852812+0.000455779\ttest-error:0.103585+0.00236011\n",
      "[9]\ttrain-error:0.084596+0.000612179\ttest-error:0.103484+0.00233749\n",
      "[0]\ttrain-error:0.0966018+0.0010681\ttest-error:0.112652+0.00108823\n",
      "[1]\ttrain-error:0.0926368+0.000535921\ttest-error:0.107979+0.00142162\n",
      "[2]\ttrain-error:0.0901872+0.000768395\ttest-error:0.106742+0.00133618\n",
      "[3]\ttrain-error:0.0889874+0.00103275\ttest-error:0.105757+0.00113641\n",
      "[4]\ttrain-error:0.0880434+0.000775181\ttest-error:0.105025+0.00121021\n",
      "[5]\ttrain-error:0.0870902+0.000757124\ttest-error:0.104242+0.00133516\n",
      "[6]\ttrain-error:0.0865788+0.00118915\ttest-error:0.104153+0.0017284\n",
      "[7]\ttrain-error:0.0859566+0.00109661\ttest-error:0.103837+0.00145687\n",
      "[8]\ttrain-error:0.0848456+0.000718023\ttest-error:0.103307+0.00102541\n",
      "[9]\ttrain-error:0.0840278+0.000667412\ttest-error:0.103244+0.00122726\n"
     ]
    }
   ],
   "source": [
    "#check accuracy score\n",
    "xgbc = XGBClassifier(n_estimators=100, max_depth=10, subsample=0.9, seed=0)\n",
    "\n",
    "for rand_Seed in seeds[:3]:\n",
    "    #rfc = RandomForestClassifier(random_state=0, n_estimators=100, max_depth=10)\n",
    "    start = time.time()\n",
    "    #score = cross_val_score(rfc, keepX, keepY, cv = 5, scoring=\"average_precision\", verbose=True )\n",
    "    xgb_params = xgbc.get_xgb_params()\n",
    "    dtrain = xgb.DMatrix(keepX, label=keepY)\n",
    "    score = xgb.cv(xgb_params, nfold=5, dtrain=dtrain,  metrics=\"error\",\n",
    "                   stratified=True, early_stopping_rounds=20, verbose_eval=True, seed=rand_Seed)\n",
    "    #print score \n",
    "    #print \"Average score\", np.mean(score), \"Standard Deviation\", np.std(score)\n",
    "    #end = time.time()\n",
    "    #print(\"Total evaluation time %f\" % (end - start))\n",
    "    #print sklearn.metrics."
   ]
  },
  {
   "cell_type": "code",
   "execution_count": 105,
   "metadata": {
    "collapsed": false
   },
   "outputs": [],
   "source": [
    "#custom precsion and recall\n",
    "def prec_err(preds, labels):\n",
    "    #print preds.shape\n",
    "    labels = labels.get_label()\n",
    "    print preds.max()\n",
    "    pred_num = len(np.where((preds>=0.6) & (labels ==1))[0])\n",
    "    total_num = len(np.where( preds >=0.6)[0])\n",
    "    print pred_num ,total_num\n",
    "    score = pred_num/float(total_num)\n",
    "    score_list = np.empty_like(preds)\n",
    "    score_list.fill(score)\n",
    "    #print score_list\n",
    "    #return [\"preds\", score]\n",
    "    return \"error\", score\n",
    "\n",
    "\n",
    "#def rec_err(preds, labels):\n",
    " #   pred_num = len(np.where((preds==1) & (labels ==1)[0])\n",
    "    #total_num = len(np.where(labels ==1)[0])\n",
    "    #return pred_num/float(total_num)\n"
   ]
  },
  {
   "cell_type": "code",
   "execution_count": 106,
   "metadata": {
    "collapsed": false
   },
   "outputs": [
    {
     "name": "stdout",
     "output_type": "stream",
     "text": [
      "0.547082\n",
      "0 0\n"
     ]
    },
    {
     "ename": "ZeroDivisionError",
     "evalue": "float division by zero",
     "output_type": "error",
     "traceback": [
      "\u001b[0;31m---------------------------------------------------------------------------\u001b[0m",
      "\u001b[0;31mZeroDivisionError\u001b[0m                         Traceback (most recent call last)",
      "\u001b[0;32m<ipython-input-106-3ff92c4939ba>\u001b[0m in \u001b[0;36m<module>\u001b[0;34m()\u001b[0m\n\u001b[1;32m      7\u001b[0m \u001b[0mdtrain\u001b[0m \u001b[0;34m=\u001b[0m \u001b[0mxgb\u001b[0m\u001b[0;34m.\u001b[0m\u001b[0mDMatrix\u001b[0m\u001b[0;34m(\u001b[0m\u001b[0mkeepX\u001b[0m\u001b[0;34m,\u001b[0m \u001b[0mlabel\u001b[0m\u001b[0;34m=\u001b[0m\u001b[0mkeepY\u001b[0m\u001b[0;34m)\u001b[0m\u001b[0;34m\u001b[0m\u001b[0m\n\u001b[1;32m      8\u001b[0m score = xgb.cv(xgb_params, nfold=5, dtrain=dtrain, feval=prec_err,\n\u001b[0;32m----> 9\u001b[0;31m                stratified=True, early_stopping_rounds=20, verbose_eval=True, seed=10)\n\u001b[0m\u001b[1;32m     10\u001b[0m \u001b[0;32mprint\u001b[0m \u001b[0mscore\u001b[0m\u001b[0;34m\u001b[0m\u001b[0m\n\u001b[1;32m     11\u001b[0m \u001b[0;32mprint\u001b[0m \u001b[0;34m\"Average score\"\u001b[0m\u001b[0;34m,\u001b[0m \u001b[0mnp\u001b[0m\u001b[0;34m.\u001b[0m\u001b[0mmean\u001b[0m\u001b[0;34m(\u001b[0m\u001b[0mscore\u001b[0m\u001b[0;34m)\u001b[0m\u001b[0;34m,\u001b[0m \u001b[0;34m\"Standard Deviation\"\u001b[0m\u001b[0;34m,\u001b[0m \u001b[0mnp\u001b[0m\u001b[0;34m.\u001b[0m\u001b[0mstd\u001b[0m\u001b[0;34m(\u001b[0m\u001b[0mscore\u001b[0m\u001b[0;34m)\u001b[0m\u001b[0;34m\u001b[0m\u001b[0m\n",
      "\u001b[0;32m/home/naireen/anaconda2/lib/python2.7/site-packages/xgboost/training.pyc\u001b[0m in \u001b[0;36mcv\u001b[0;34m(params, dtrain, num_boost_round, nfold, stratified, folds, metrics, obj, feval, maximize, early_stopping_rounds, fpreproc, as_pandas, verbose_eval, show_stdv, seed, callbacks)\u001b[0m\n\u001b[1;32m    399\u001b[0m         \u001b[0;32mfor\u001b[0m \u001b[0mfold\u001b[0m \u001b[0;32min\u001b[0m \u001b[0mcvfolds\u001b[0m\u001b[0;34m:\u001b[0m\u001b[0;34m\u001b[0m\u001b[0m\n\u001b[1;32m    400\u001b[0m             \u001b[0mfold\u001b[0m\u001b[0;34m.\u001b[0m\u001b[0mupdate\u001b[0m\u001b[0;34m(\u001b[0m\u001b[0mi\u001b[0m\u001b[0;34m,\u001b[0m \u001b[0mobj\u001b[0m\u001b[0;34m)\u001b[0m\u001b[0;34m\u001b[0m\u001b[0m\n\u001b[0;32m--> 401\u001b[0;31m         \u001b[0mres\u001b[0m \u001b[0;34m=\u001b[0m \u001b[0maggcv\u001b[0m\u001b[0;34m(\u001b[0m\u001b[0;34m[\u001b[0m\u001b[0mf\u001b[0m\u001b[0;34m.\u001b[0m\u001b[0meval\u001b[0m\u001b[0;34m(\u001b[0m\u001b[0mi\u001b[0m\u001b[0;34m,\u001b[0m \u001b[0mfeval\u001b[0m\u001b[0;34m)\u001b[0m \u001b[0;32mfor\u001b[0m \u001b[0mf\u001b[0m \u001b[0;32min\u001b[0m \u001b[0mcvfolds\u001b[0m\u001b[0;34m]\u001b[0m\u001b[0;34m)\u001b[0m\u001b[0;34m\u001b[0m\u001b[0m\n\u001b[0m\u001b[1;32m    402\u001b[0m \u001b[0;34m\u001b[0m\u001b[0m\n\u001b[1;32m    403\u001b[0m         \u001b[0;32mfor\u001b[0m \u001b[0mkey\u001b[0m\u001b[0;34m,\u001b[0m \u001b[0mmean\u001b[0m\u001b[0;34m,\u001b[0m \u001b[0mstd\u001b[0m \u001b[0;32min\u001b[0m \u001b[0mres\u001b[0m\u001b[0;34m:\u001b[0m\u001b[0;34m\u001b[0m\u001b[0m\n",
      "\u001b[0;32m/home/naireen/anaconda2/lib/python2.7/site-packages/xgboost/training.pyc\u001b[0m in \u001b[0;36meval\u001b[0;34m(self, iteration, feval)\u001b[0m\n\u001b[1;32m    221\u001b[0m     \u001b[0;32mdef\u001b[0m \u001b[0meval\u001b[0m\u001b[0;34m(\u001b[0m\u001b[0mself\u001b[0m\u001b[0;34m,\u001b[0m \u001b[0miteration\u001b[0m\u001b[0;34m,\u001b[0m \u001b[0mfeval\u001b[0m\u001b[0;34m)\u001b[0m\u001b[0;34m:\u001b[0m\u001b[0;34m\u001b[0m\u001b[0m\n\u001b[1;32m    222\u001b[0m         \u001b[0;34m\"\"\"\"Evaluate the CVPack for one iteration.\"\"\"\u001b[0m\u001b[0;34m\u001b[0m\u001b[0m\n\u001b[0;32m--> 223\u001b[0;31m         \u001b[0;32mreturn\u001b[0m \u001b[0mself\u001b[0m\u001b[0;34m.\u001b[0m\u001b[0mbst\u001b[0m\u001b[0;34m.\u001b[0m\u001b[0meval_set\u001b[0m\u001b[0;34m(\u001b[0m\u001b[0mself\u001b[0m\u001b[0;34m.\u001b[0m\u001b[0mwatchlist\u001b[0m\u001b[0;34m,\u001b[0m \u001b[0miteration\u001b[0m\u001b[0;34m,\u001b[0m \u001b[0mfeval\u001b[0m\u001b[0;34m)\u001b[0m\u001b[0;34m\u001b[0m\u001b[0m\n\u001b[0m\u001b[1;32m    224\u001b[0m \u001b[0;34m\u001b[0m\u001b[0m\n\u001b[1;32m    225\u001b[0m \u001b[0;34m\u001b[0m\u001b[0m\n",
      "\u001b[0;32m/home/naireen/anaconda2/lib/python2.7/site-packages/xgboost/core.pyc\u001b[0m in \u001b[0;36meval_set\u001b[0;34m(self, evals, iteration, feval)\u001b[0m\n\u001b[1;32m    870\u001b[0m             \u001b[0mres\u001b[0m \u001b[0;34m=\u001b[0m \u001b[0;34m'[%d]'\u001b[0m \u001b[0;34m%\u001b[0m \u001b[0miteration\u001b[0m\u001b[0;34m\u001b[0m\u001b[0m\n\u001b[1;32m    871\u001b[0m             \u001b[0;32mfor\u001b[0m \u001b[0mdmat\u001b[0m\u001b[0;34m,\u001b[0m \u001b[0mevname\u001b[0m \u001b[0;32min\u001b[0m \u001b[0mevals\u001b[0m\u001b[0;34m:\u001b[0m\u001b[0;34m\u001b[0m\u001b[0m\n\u001b[0;32m--> 872\u001b[0;31m                 \u001b[0mfeval_ret\u001b[0m \u001b[0;34m=\u001b[0m \u001b[0mfeval\u001b[0m\u001b[0;34m(\u001b[0m\u001b[0mself\u001b[0m\u001b[0;34m.\u001b[0m\u001b[0mpredict\u001b[0m\u001b[0;34m(\u001b[0m\u001b[0mdmat\u001b[0m\u001b[0;34m)\u001b[0m\u001b[0;34m,\u001b[0m \u001b[0mdmat\u001b[0m\u001b[0;34m)\u001b[0m\u001b[0;34m\u001b[0m\u001b[0m\n\u001b[0m\u001b[1;32m    873\u001b[0m                 \u001b[0;32mif\u001b[0m \u001b[0misinstance\u001b[0m\u001b[0;34m(\u001b[0m\u001b[0mfeval_ret\u001b[0m\u001b[0;34m,\u001b[0m \u001b[0mlist\u001b[0m\u001b[0;34m)\u001b[0m\u001b[0;34m:\u001b[0m\u001b[0;34m\u001b[0m\u001b[0m\n\u001b[1;32m    874\u001b[0m                     \u001b[0;32mfor\u001b[0m \u001b[0mname\u001b[0m\u001b[0;34m,\u001b[0m \u001b[0mval\u001b[0m \u001b[0;32min\u001b[0m \u001b[0mfeval_ret\u001b[0m\u001b[0;34m:\u001b[0m\u001b[0;34m\u001b[0m\u001b[0m\n",
      "\u001b[0;32m<ipython-input-105-a149bc45f349>\u001b[0m in \u001b[0;36mprec_err\u001b[0;34m(preds, labels)\u001b[0m\n\u001b[1;32m      7\u001b[0m     \u001b[0mtotal_num\u001b[0m \u001b[0;34m=\u001b[0m \u001b[0mlen\u001b[0m\u001b[0;34m(\u001b[0m\u001b[0mnp\u001b[0m\u001b[0;34m.\u001b[0m\u001b[0mwhere\u001b[0m\u001b[0;34m(\u001b[0m \u001b[0mpreds\u001b[0m \u001b[0;34m>=\u001b[0m\u001b[0;36m0.6\u001b[0m\u001b[0;34m)\u001b[0m\u001b[0;34m[\u001b[0m\u001b[0;36m0\u001b[0m\u001b[0;34m]\u001b[0m\u001b[0;34m)\u001b[0m\u001b[0;34m\u001b[0m\u001b[0m\n\u001b[1;32m      8\u001b[0m     \u001b[0;32mprint\u001b[0m \u001b[0mpred_num\u001b[0m \u001b[0;34m,\u001b[0m\u001b[0mtotal_num\u001b[0m\u001b[0;34m\u001b[0m\u001b[0m\n\u001b[0;32m----> 9\u001b[0;31m     \u001b[0mscore\u001b[0m \u001b[0;34m=\u001b[0m \u001b[0mpred_num\u001b[0m\u001b[0;34m/\u001b[0m\u001b[0mfloat\u001b[0m\u001b[0;34m(\u001b[0m\u001b[0mtotal_num\u001b[0m\u001b[0;34m)\u001b[0m\u001b[0;34m\u001b[0m\u001b[0m\n\u001b[0m\u001b[1;32m     10\u001b[0m     \u001b[0mscore_list\u001b[0m \u001b[0;34m=\u001b[0m \u001b[0mnp\u001b[0m\u001b[0;34m.\u001b[0m\u001b[0mempty_like\u001b[0m\u001b[0;34m(\u001b[0m\u001b[0mpreds\u001b[0m\u001b[0;34m)\u001b[0m\u001b[0;34m\u001b[0m\u001b[0m\n\u001b[1;32m     11\u001b[0m     \u001b[0mscore_list\u001b[0m\u001b[0;34m.\u001b[0m\u001b[0mfill\u001b[0m\u001b[0;34m(\u001b[0m\u001b[0mscore\u001b[0m\u001b[0;34m)\u001b[0m\u001b[0;34m\u001b[0m\u001b[0m\n",
      "\u001b[0;31mZeroDivisionError\u001b[0m: float division by zero"
     ]
    }
   ],
   "source": [
    "xgbc = XGBClassifier(n_estimators=300, max_depth=10, subsample=0.9, seed=0,)\n",
    "#try with xgb top 20 feates\n",
    "#rfc = RandomForestClassifier(random_state=0, n_estimators=100, max_depth=10)\n",
    "start = time.time()\n",
    "#score = cross_val_score(rfc, keepX, keepY, cv = 5, scoring=\"average_precision\", verbose=True )\n",
    "xgb_params = xgbc.get_xgb_params()\n",
    "dtrain = xgb.DMatrix(keepX, label=keepY)\n",
    "score = xgb.cv(xgb_params, nfold=5, dtrain=dtrain, feval=prec_err,\n",
    "               stratified=True, early_stopping_rounds=20, verbose_eval=True, seed=10)\n",
    "print score \n",
    "print \"Average score\", np.mean(score), \"Standard Deviation\", np.std(score)\n",
    "end = time.time()\n",
    "print(\"Total evaluation time %f\" % (end - start))\n",
    "mean_test_auc.append(np.mean(score[\"test-error-mean\"]))\n",
    "print mean_test_auc"
   ]
  },
  {
   "cell_type": "code",
   "execution_count": null,
   "metadata": {
    "collapsed": true
   },
   "outputs": [],
   "source": [
    "#xgboost.to_graphviz(booster, fmap='', num_trees=0, rankdir='UT', yes_color='#0000FF',\n",
    "    #no_color='#FF0000', **kwargs#\n",
    "xgb.to_graphviz(xgbc, num_trees=1)# feature_names = labelled_data.columns.values)"
   ]
  },
  {
   "cell_type": "code",
   "execution_count": 28,
   "metadata": {
    "collapsed": false
   },
   "outputs": [
    {
     "name": "stdout",
     "output_type": "stream",
     "text": [
      "9147\n",
      "10651\n",
      "36230\n",
      "42961\n",
      "\n",
      "\n",
      "9075\n",
      "10723\n",
      "36302\n",
      "42889\n"
     ]
    }
   ],
   "source": [
    "# check if the splits are stratified\n",
    "print len(np.where(holdoutY==1)[0])\n",
    "print len(np.where(holdoutY==0)[0])\n",
    "print len(np.where(keepY==1)[0])\n",
    "print len(np.where(keepY==0)[0])\n",
    "\n",
    "\n",
    "# try splitting the data again, and then running the individual training and testing to see if that improves scores\n",
    "keepX_s,  holdoutX_s, keepY_s, holdoutY_s , keep_labels_s, holdout_labels_s= train_test_split(shuffleX,\n",
    "                            shuffleY, shuffle_labels, test_size = 0.2, random_state = 0, stratify = shuffleY)\n",
    "print(\"\\n\")\n",
    "print len(np.where(holdoutY_s==1)[0])\n",
    "print len(np.where(holdoutY_s==0)[0])\n",
    "print len(np.where(keepY_s==1)[0])\n",
    "print len(np.where(keepY_s==0)[0])"
   ]
  },
  {
   "cell_type": "code",
   "execution_count": null,
   "metadata": {
    "collapsed": true
   },
   "outputs": [],
   "source": [
    "#xgbc = XGBClassifier(n_estimators=100, max_depth=10, subsample=0.9, seed=4)\n",
    "#xgbc.fit(keepX_s, keepY_s)\n",
    "#preds = xgbc.predict(holdoutX_s)\n"
   ]
  },
  {
   "cell_type": "code",
   "execution_count": 35,
   "metadata": {
    "collapsed": false
   },
   "outputs": [
    {
     "name": "stdout",
     "output_type": "stream",
     "text": [
      "ROC_auc 0.911759234353\n",
      "Error 0.0900090918275\n",
      "PR_AUC 0.920970663555\n"
     ]
    }
   ],
   "source": [
    "score = sklearn.metrics.roc_auc_score(holdoutY_s, preds)\n",
    "print \"ROC_auc\", score\n",
    "score = 1 - sklearn.metrics.accuracy_score(holdoutY_s, preds)\n",
    "print \"Error\", score\n",
    "score = sklearn.metrics.average_precision_score(holdoutY_s, preds)\n",
    "print \"PR_AUC\", score\n"
   ]
  },
  {
   "cell_type": "code",
   "execution_count": 86,
   "metadata": {
    "collapsed": false
   },
   "outputs": [],
   "source": [
    "# define the parameter space and objective\n",
    "space3 ={\n",
    "        'max_depth': hp.quniform('x_max_depth', 1, 15,1),\n",
    "        'min_child_weight': hp.quniform ('x_min_child', 1, 10, 1),\n",
    "        'subsample': hp.uniform ('x_subsample', 0.8, 1),\n",
    "        'colsample_bytree': hp.uniform ('x_tree_colsample', 0.5,1),\n",
    "        'learning_rate': hp.uniform ('x_learning_rate', 0.001, 0.1)\n",
    "}"
   ]
  },
  {
   "cell_type": "code",
   "execution_count": 91,
   "metadata": {
    "collapsed": true
   },
   "outputs": [],
   "source": [
    "def objective4(space3):\n",
    "\n",
    "    clf = XGBClassifier(n_estimators = 500, \n",
    "                            max_depth = space3['max_depth'], \n",
    "                            min_child_weight =space3['min_child_weight'],\n",
    "                            subsample = space3['subsample'],\n",
    "                            colsample_bytree =space3['colsample_bytree'],\n",
    "                            learning_rate = space3['learning_rate'])\n",
    "    start = time.time()\n",
    "    dtrain= xgb.DMatrix(shuffleX[xgb_imp_feat], label=shuffleY)\n",
    "    cv_result = xgb.cv(clf.get_xgb_params(),dtrain, num_boost_round=10, nfold=5, feval=prec_err, early_stopping_rounds=5 , seed=0, stratified=True)\n",
    "    end = time.time()\n",
    "    #score = cross_val_score(clf, trainX, trainY, cv = 5, scoring=\"average_precision\")\n",
    "    score =  cv_result.iloc[-1][\"test-error-mean\"]\n",
    "    score_std =  cv_result.iloc[-1][\"test-error-std\"]\n",
    "    print (\"SCORE %f, in : %f s:\" % (score, (end-start)))\n",
    "\n",
    "    return{'loss':1-score, 'status': STATUS_OK, \"cv_score\":score, \"test_avg\": score_std }"
   ]
  },
  {
   "cell_type": "code",
   "execution_count": 92,
   "metadata": {
    "collapsed": false
   },
   "outputs": [
    {
     "name": "stdout",
     "output_type": "stream",
     "text": [
      "SCORE 0.843700, in : 6.204770 s:\n",
      "SCORE 0.839148, in : 9.065809 s:\n",
      "SCORE 0.849142, in : 9.593556 s:\n",
      "SCORE 0.848535, in : 9.481226 s:\n",
      "SCORE 0.607200, in : 3.325968 s:\n",
      "SCORE 0.837891, in : 8.971814 s:\n",
      "SCORE 0.847810, in : 13.151676 s:\n",
      "SCORE 0.847878, in : 13.234824 s:\n",
      "SCORE 0.841843, in : 6.972290 s:\n",
      "SCORE 0.800036, in : 3.107779 s:\n",
      "SCORE 0.842370, in : 7.390899 s:\n",
      "SCORE 0.845831, in : 10.027797 s:\n",
      "SCORE 0.846192, in : 7.299150 s:\n",
      "SCORE 0.839929, in : 4.234407 s:\n",
      "SCORE 0.842243, in : 7.054643 s:\n",
      "SCORE 0.847039, in : 8.083636 s:\n",
      "SCORE 0.843842, in : 8.656969 s:\n",
      "SCORE 0.839452, in : 4.448149 s:\n",
      "SCORE 0.849153, in : 7.533060 s:\n",
      "SCORE 0.846406, in : 7.826699 s:\n",
      "('Optimization Time: %f seconds', 155.7992241382599)\n"
     ]
    }
   ],
   "source": [
    "trials4= Trials()\n",
    "import time\n",
    "start = time.time()\n",
    "best4 = fmin(fn=objective4, space = space3, algo = tpe.suggest, max_evals = 20, trials = trials4)\n",
    "end = time.time()\n",
    "print(\"Optimization Time: %f seconds\", (end  -start))"
   ]
  },
  {
   "cell_type": "code",
   "execution_count": 120,
   "metadata": {
    "collapsed": false
   },
   "outputs": [
    {
     "name": "stdout",
     "output_type": "stream",
     "text": [
      "{'x_min_child': 1.0, 'x_tree_colsample': 0.9772742007628381, 'x_max_depth': 9.0, 'x_subsample': 0.9496252732199657, 'x_learning_rate': 0.09070813376764114}\n"
     ]
    }
   ],
   "source": [
    "print best4"
   ]
  },
  {
   "cell_type": "code",
   "execution_count": 16,
   "metadata": {
    "collapsed": false
   },
   "outputs": [
    {
     "name": "stdout",
     "output_type": "stream",
     "text": [
      "{'x_min_child': 1.0, 'x_tree_colsample': 0.9772742007628381, 'x_max_depth': 9.0, 'x_subsample': 0.9496252732199657, 'x_learning_rate': 0.09070813376764114}\n"
     ]
    }
   ],
   "source": [
    "best4 = {'x_min_child': 1.0, 'x_tree_colsample': 0.9772742007628381,\n",
    "         'x_max_depth': 9.0, 'x_subsample': 0.9496252732199657,\n",
    "         'x_learning_rate': 0.09070813376764114}\n",
    "print best4\n"
   ]
  },
  {
   "cell_type": "code",
   "execution_count": 19,
   "metadata": {
    "collapsed": false
   },
   "outputs": [
    {
     "name": "stdout",
     "output_type": "stream",
     "text": [
      "0.914828482639\n"
     ]
    }
   ],
   "source": [
    "best = [best4]#, best5]\n",
    "for best_params in best:\n",
    "    xgb_c = XGBClassifier(n_estimators=500, seed=0, min_child_weight=best_params[\"x_min_child\"],\n",
    "                         max_depth = int(best_params[\"x_max_depth\"]), subsample = best_params[\"x_subsample\"], \n",
    "                         learning_rate = best_params[\"x_learning_rate\"], colsample_bytree = best_params[\"x_tree_colsample\"])\n",
    "    xgb_c.fit(keepX[xgb_imp_feat], keepY) # the orignal 80\n",
    "    preds = xgb_c.predict(holdoutX[xgb_imp_feat]) #3 the holdout 20 percent\n",
    "    score = sklearn.metrics.average_precision_score(holdoutY, preds)\n",
    "    print score\n",
    "    break"
   ]
  },
  {
   "cell_type": "code",
   "execution_count": 20,
   "metadata": {
    "collapsed": false
   },
   "outputs": [
    {
     "name": "stdout",
     "output_type": "stream",
     "text": [
      "0.903700598627\n"
     ]
    }
   ],
   "source": [
    "score = sklearn.metrics.roc_auc_score(holdoutY, preds)\n",
    "print score"
   ]
  },
  {
   "cell_type": "code",
   "execution_count": 24,
   "metadata": {
    "collapsed": false
   },
   "outputs": [
    {
     "name": "stdout",
     "output_type": "stream",
     "text": [
      "0.920799858919\n",
      "Train test time 196.238195896\n",
      "0.921149698672\n",
      "Train test time 344.452687025\n"
     ]
    }
   ],
   "source": [
    "#a bit confused about the low test scores, as the scores for the test set for cv were significanlty higher\n",
    "#manually define best4 and best5 so the optimzation doesnt need to be rerun\n",
    "\n",
    "\n",
    "best4 = {'x_min_child': 7.0, 'x_tree_colsample': 0.6437984135576709, 'x_max_depth': 10.0, 'x_subsample': 0.8828911873690336, 'x_learning_rate': 0.024538070738830416}\n",
    "#best4 = {'x_min_child': 8.0, 'x_tree_colsample': 0.6437984135576709, 'x_max_depth': 15, 'x_subsample': 0.50, 'x_learning_rate': 0.024538070738830416}\n",
    "\n",
    "best5 = {'x_min_child': 8.0, 'x_tree_colsample': 0.9355209227945037, 'x_max_depth': 13.0, 'x_subsample': 0.8888132119145556, 'x_learning_rate': 0.039567638307710734}\n",
    "\n",
    "\n",
    "best = [best4, best5]\n",
    "for best_params in best:\n",
    "    start = time.time()\n",
    "    xgbc = XGBClassifier(n_estimators=500, seed=0, min_child_weight=best_params[\"x_min_child\"],\n",
    "                         max_depth = int(best_params[\"x_max_depth\"]), subsample = best_params[\"x_subsample\"], \n",
    "                         learning_rate = best_params[\"x_learning_rate\"], colsample_bytree = best_params[\"x_tree_colsample\"],\n",
    "                         )\n",
    "    xgbc.fit(keepX, keepY) # 80% of the 80 \n",
    "    preds = xgbc.predict(holdoutX) #205 of the 80%\n",
    "    score = sklearn.metrics.average_precision_score(holdoutY,  preds)\n",
    "    print score\n",
    "    end = time.time()\n",
    "    print \"Train test time\", (end - start)\n",
    "    #break\n",
    "    "
   ]
  },
  {
   "cell_type": "code",
   "execution_count": null,
   "metadata": {
    "collapsed": true
   },
   "outputs": [],
   "source": []
  }
 ],
 "metadata": {
  "anaconda-cloud": {},
  "kernelspec": {
   "display_name": "Python [conda root]",
   "language": "python",
   "name": "conda-root-py"
  },
  "language_info": {
   "codemirror_mode": {
    "name": "ipython",
    "version": 2
   },
   "file_extension": ".py",
   "mimetype": "text/x-python",
   "name": "python",
   "nbconvert_exporter": "python",
   "pygments_lexer": "ipython2",
   "version": "2.7.12"
  }
 },
 "nbformat": 4,
 "nbformat_minor": 1
}
