{
 "cells": [
  {
   "cell_type": "code",
   "execution_count": 1,
   "metadata": {
    "collapsed": false
   },
   "outputs": [
    {
     "name": "stderr",
     "output_type": "stream",
     "text": [
      "/home/naireen/anaconda2/lib/python2.7/site-packages/sklearn/cross_validation.py:44: DeprecationWarning: This module was deprecated in version 0.18 in favor of the model_selection module into which all the refactored classes and functions are moved. Also note that the interface of the new CV iterators are different from that of this module. This module will be removed in 0.20.\n",
      "  \"This module will be removed in 0.20.\", DeprecationWarning)\n"
     ]
    }
   ],
   "source": [
    "# try with xgb, see if it performs any better\n",
    "import xgboost as xgb\n",
    "from xgboost import XGBClassifier\n",
    "\n",
    "import numpy as np\n",
    "import sklearn\n",
    "from sklearn.ensemble import RandomForestClassifier\n",
    "import pandas as pd\n",
    "import matplotlib\n",
    "%matplotlib inline\n",
    "from matplotlib import pyplot as plt\n",
    "from sklearn.utils import shuffle\n",
    "from sklearn.model_selection import cross_val_score\n",
    "from sklearn.model_selection import train_test_split\n",
    "from hyperopt import hp, fmin, tpe, STATUS_OK, Trials\n",
    "import time\n",
    "\n",
    "from sklearn import tree\n",
    "from sklearn.tree import export_graphviz\n",
    "from IPython.display import Image \n",
    "import pydotplus"
   ]
  },
  {
   "cell_type": "code",
   "execution_count": 2,
   "metadata": {
    "collapsed": false
   },
   "outputs": [
    {
     "name": "stdout",
     "output_type": "stream",
     "text": [
      "2545964.664 1.37424\n"
     ]
    },
    {
     "data": {
      "image/png": "[encoded data removed]",
      "text/plain": [
       "<matplotlib.figure.Figure at 0x7f7c88d53850>"
      ]
     },
     "metadata": {},
     "output_type": "display_data"
    }
   ],
   "source": [
    "data = pd.read_table(\"../../Documents/work/TransitClassify/data/1347.ltf\", header=None, delimiter=\" \")#\n",
    "data.columns = [\"Time\", \"Flux\", \"Error?\"]\n",
    "\n",
    "Period=1.37424\n",
    "Epoch = 2545964.664\n",
    "\n",
    "print  Epoch, Period\n",
    "#data[\"Phase\"] = (data[\"Time\"]  - np.ceil((data[\"Time\"]/Period)) * Period)/Period \n",
    "data[\"Phase\"] = ((data[\"Time\"] - Epoch) / Period )%1\n",
    "\n",
    "neg  = (((data[\"Time\"] - Epoch) / Period )%1) -1\n",
    "fig= plt.figure(figsize=(10,5))\n",
    "plt.scatter([neg, data[\"Phase\"]], [data[\"Flux\"], data[\"Flux\"]], marker=\".\", color = \"purple\")\n",
    "\n",
    "plt.gca().invert_yaxis()\n"
   ]
  },
  {
   "cell_type": "code",
   "execution_count": 24,
   "metadata": {
    "collapsed": false
   },
   "outputs": [
    {
     "ename": "SyntaxError",
     "evalue": "invalid syntax (<ipython-input-24-bf0b0f0364c3>, line 1)",
     "output_type": "error",
     "traceback": [
      "\u001b[0;36m  File \u001b[0;32m\"<ipython-input-24-bf0b0f0364c3>\"\u001b[0;36m, line \u001b[0;32m1\u001b[0m\n\u001b[0;31m    GIven parameters\u001b[0m\n\u001b[0m                   ^\u001b[0m\n\u001b[0;31mSyntaxError\u001b[0m\u001b[0;31m:\u001b[0m invalid syntax\n"
     ]
    }
   ],
   "source": [
    "GIven parameters\n",
    "BLS_No, BLS_Period_1_0,  BLS_Tc_1_0,  BLS_SN_1_0,  BLS_SR_1_0,  BLS_SDE_1_0 , BLS_Depth_1_0, \n",
    "BLS_Qtran_1_0,  BLS_Qingress_1_0,  BLS_OOTmag_1_0,  BLS_i1_1_0 , BLS_i2_1_0,  BLS_deltaChi2_1_0, \n",
    "BLS_fraconenight_1_0,  BLS_Npointsintransit_1_0,  BLS_Ntransits_1_0,  BLS_Npointsbeforetransit_1_0, \n",
    "BLS_Npointsaftertransit_1_0,  BLS_Rednoise_1_0,  BLS_Whitenoise_1_0,  BLS_SignaltoPinknoise_1_0\n",
    "\n",
    "\n",
    "#assume for now we know the transit period, transit duration\n",
    "transit_period = 0.16 * Period #0.16 in phase space\n",
    "n_trans = 10//Period \n",
    "half_trans = 0.08\n"
   ]
  },
  {
   "cell_type": "code",
   "execution_count": 23,
   "metadata": {
    "collapsed": false
   },
   "outputs": [
    {
     "name": "stdout",
     "output_type": "stream",
     "text": [
      "C [ 0.5488135   0.71518937  0.60276338  0.54488318  0.4236548   0.64589411\n",
      "  0.43758721]\n",
      "Red noise 1.97959226939\n",
      "(35,)\n",
      "(35,)\n",
      "nan\n",
      "nan 0.504104405977\n",
      "nan\n"
     ]
    },
    {
     "data": {
      "text/plain": [
       "<matplotlib.collections.PathCollection at 0x7f7c851acb50>"
      ]
     },
     "execution_count": 23,
     "metadata": {},
     "output_type": "execute_result"
    },
    {
     "data": {
      "image/png": "[encoded data removed]",
      "text/plain": [
       "<matplotlib.figure.Figure at 0x7f7c85779a90>"
      ]
     },
     "metadata": {},
     "output_type": "display_data"
    }
   ],
   "source": [
    "#assume it srandomly distributed between -1 and 1\n",
    "np.random.seed(0)\n",
    "C = np.random.uniform(low=0,high=1,size=int(n_trans))\n",
    "\n",
    "print \"C\", C\n",
    "#assume the samme number of n_Trans points for each transits\n",
    "n_trans_points = 14\n",
    "red_noise = np.sqrt( 1./n_trans_points**2 * np.sum(C * n_trans_points**2))\n",
    "print \"Red noise\", red_noise\n",
    "\n",
    "trans_sig = np.mean(data[\"Flux\"][(data[\"Phase\"] < half_trans/4) & (data[\"Phase\"]> (1  - half_trans/4))])\n",
    "#print data[\"Flux\"][(data[\"Phase\"] < half_trans) * (data[\"Phase\"]> (1  - half_trans))]\n",
    "print data[\"Flux\"][(data[\"Phase\"] < half_trans)].shape *\n",
    "print data[\"Flux\"][(data[\"Phase\"] > 1-half_trans)].shape\n",
    "\n",
    "\n",
    "print trans_sig\n",
    "#looks at both side of data on either side of the transit from 0 to 1\n",
    "first_avg =  np.mean(  data[\"Phase\"][ (data[\"Phase\"]>half_trans) & (data[\"Phase\"]< (1-half_trans)) ]   )\n",
    "\n",
    "\n",
    "print trans_sig,  first_avg\n",
    "depth = trans_sig - first_avg\n",
    "print depth\n",
    "plt.scatter(data[\"Phase\"], data[\"Flux\"] )"
   ]
  },
  {
   "cell_type": "code",
   "execution_count": null,
   "metadata": {
    "collapsed": false
   },
   "outputs": [],
   "source": [
    "#creating secondary, tertiary, and positive signal \n",
    "#secondary just checks signal at 0.  INCORRECT\n",
    "second_trans_sig = np.mean(smooth_data[(smooth_time<0.5 +half_trans/2)\n",
    "                                 &(smooth_time>0.5 -half_trans/2)])\n",
    "#incorrectly done\n",
    "mod_sig_sec_dv  = second_trans_sig- (first_avg+second_avg)/2 "
   ]
  },
  {
   "cell_type": "code",
   "execution_count": null,
   "metadata": {
    "collapsed": false
   },
   "outputs": [],
   "source": [
    "# use a moving bin with the current depth and see what the maximum depth is\n",
    "#go over from 0 to 1 with exceptions of the main transit and secondary transit\n",
    "\n",
    "# use for loop with trmiied data, it might be easier\n",
    "#negative half\n",
    "\n",
    "#work only from -.5 to 05 in phase space for simplicity\n",
    "\n",
    "smooth_data = smooth_data[(smooth_time>-0.5) & (smooth_time<0.5)]\n",
    "smooth_time = smooth_time[(smooth_time>-0.5) & (smooth_time<0.5)]\n",
    "\n",
    "\n",
    "print smooth_data.shape, smooth_time.shape\n",
    "\n",
    "# I suppose the corect way would be to remove the transit signal. \n",
    "\n",
    "#Delete within the lines if this doesn't work\n",
    "######################################################\n",
    "removed_trans = np.empty(shape=[0, 4])\n",
    "print removed_trans\n",
    "#print removed_trans.shape\n",
    "\n",
    "#values= smooth_data.as_matrix().copy()\n",
    "#print values\n",
    "#\n",
    "#print values\n",
    "for vals in values:\n",
    "    vals = vals.reshape([1, 4])\n",
    "    #if not in transit space, add\n",
    "    if (vals[0][3] > 0 + half_trans) and (vals[0][3]< 1-half_trans):\n",
    "\n",
    "        removed_trans = np.concatenate([removed_trans, vals], axis = 0)\n",
    "    else:\n",
    "        #remove signal otherwise\n",
    "        if vals[0][3] > 0.5:\n",
    "            vals[0][1]-= (half_trans - np.abs((vals[0][3]-1))) *slope *1.5\n",
    "      \n",
    "        else:\n",
    "            vals[0][1]-= (half_trans - np.abs((vals[0][3] )))* slope *1.5\n",
    "            #print \"phase\", vals[0][3], \"flux\", vals[0][1]\n",
    "            #print \"\\n\"\n",
    "\n",
    "       \n",
    "        removed_trans = np.concatenate([removed_trans, vals], axis = 0)\n",
    "print np.where((removed_trans==data.values)==False)\n",
    "\n",
    "print removed_trans.shape, data.shape\n",
    "plt.scatter(removed_trans[:,0], removed_trans[:,1])\n",
    "#plt.figure()\n",
    "#plt.scatter(data[\"Time\"], data[\"Flux\"], marker=\".\")\n",
    "\n",
    "\n",
    "\n",
    "#######################################################3\n",
    "\n",
    "trimmed_data = smooth_data[(smooth_time>-0.5+half_trans)\n",
    "                          & (smooth_time<0-half_trans)]\n",
    "trimmed_time = smooth_time[(smooth_time>-0.5+half_trans)\n",
    "                          & (smooth_time<0-half_trans)]\n",
    "#positve half\n",
    "trimmed_data2 = smooth_data[(smooth_time<0.5-half_trans)\n",
    "                          & (smooth_time>0+half_trans)]\n",
    "trimmed_time2 = smooth_time[(smooth_time<0.5-half_trans)\n",
    "                          & (smooth_time>0+half_trans)]\n",
    "\n",
    "print trimmed_data.shape, trimmed_data2.shape\n",
    "\n",
    "total_trimmed_data = np.concatenate([trimmed_data, trimmed_data2])\n",
    "total_trimmed_time = np.concatenate([trimmed_time, trimmed_time2])\n",
    "\n",
    "\n",
    "\n",
    "\n",
    "max_3_depth = 0\n",
    "max_pos_depth = 0\n",
    "max_3_Depth_pos = 0\n",
    "\n",
    "print total_trimmed_data.shape\n",
    "\n",
    "#find max2\n",
    "\n",
    "for i in range( total_trimmed_data.shape[0]):\n",
    "    bin_width = half_trans # check half of the transit width\n",
    "    try:\n",
    "        trans_sig = np.mean(total_trimmed_data[(smooth_time>smooth_time[i]) \n",
    "                            & (smooth_time< smooth_time[i]+ half_trans)])\n",
    "        depth_3 =  trans_sig - (first_avg+second_avg)/2\n",
    "        max_3_depth = np.max([max_3_depth, depth_3])\n",
    "        if depth_3 == np.max([max_3_depth, depth_3]):\n",
    "            max_3_Depth_pos=total_trimmed_time[i]\n",
    "        max_pos_depth=np.min([max_pos_depth, depth_3])\n",
    "    except Exception as e:\n",
    "        #print e\n",
    "        continue\n",
    "    max_2_depth = max_3_depth\n",
    "    \n",
    "print smooth_time[0], smooth_time[-1], max_3_Depth_pos\n",
    "trimmed_data = total_trimmed_time[(smooth_time<max_3_Depth_pos-half_trans)\n",
    "                          & (smooth_time>max_3_Depth_pos+half_trans)]\n",
    "trimmed_time = total_trimmed_time[(smooth_time<max_3_Depth_pos-half_trans)\n",
    "                          & (smooth_time>max_3_Depth_pos+half_trans)]\n",
    "\n",
    "print trimmed_data.shape, trimmed_time.shape\n",
    "\n",
    "\n",
    "\n",
    "\n",
    "#white noise calculated by not accounting primary and secondary transit\n",
    "print total_trimmed_data.shape\n",
    "white_noise = np.std(total_trimmed_data) # only removes init\n",
    "print \"white noise\", white_noise\n",
    "\n",
    "#find max3 with smae process by removing away that section in time \n",
    "max_3_depth = 0\n",
    "for i in range( total_trimmed_data.shape[0]):\n",
    "        bin_width = half_trans # check half of the transit width\n",
    "        try:\n",
    "            trans_sig = np.mean(total_trimmed_data[(smooth_time>smooth_time[i]) \n",
    "                                & (smooth_time< smooth_time[i]+ half_trans)])\n",
    "            #first_avg+second_avg/2 signifies teh average flux during out of transit\n",
    "            depth_3 =  trans_sig - (first_avg+second_avg)/2\n",
    "            max_3_depth = np.max([max_3_depth, depth_3])\n",
    "            if depth_3 == np.max([max_3_depth, depth_3]):\n",
    "                max_3_Depth_pos=total_trimmed_time[i]\n",
    "            max_pos_depth=np.min([max_pos_depth, depth_3])\n",
    "        except Exception as e:\n",
    "            #print e\n",
    "            continue\n",
    "    \n",
    "print max_2_depth, max_3_depth\n",
    "# the zero signifies that there is no significant tertiary transit\n",
    "print \"Positions\", max_3_Depth_pos\n",
    "mod_sig_sec_dv = max_2_depth\n",
    "mod_sig_ter_dv = max_3_depth\n",
    "mod_sig_pos_dv = max_pos_depth\n",
    "print mod_sig_ter_dv, mod_sig_pos_dv"
   ]
  },
  {
   "cell_type": "code",
   "execution_count": null,
   "metadata": {
    "collapsed": false
   },
   "outputs": [],
   "source": [
    "from scipy.special import erfcinv\n",
    "\n",
    "\n",
    "#primary signalred noise -signifcance of first event\n",
    "mod_sig_pri_dv = depth #Should be just depth here # **2 / red_noise**2 #SNR?\n",
    "mod_fred_dv = red_noise / white_noise # ratio between the two\n",
    "mod_fa1_dv = np.sqrt(2) * erfcinv(transit_period/(Period* n_trans))\n",
    "mod_fa2_dv = np.sqrt(2) * erfcinv(transit_period/(Period))\n",
    "\n",
    "modshiftval1_dv = mod_sig_pri_dv/mod_fred_dv - mod_fa1_dv\n",
    "modshiftval2_dv = mod_sig_pri_dv - mod_sig_ter_dv-mod_fa2_dv\n",
    "modshiftval3_dv = mod_sig_pri_dv - mod_sig_pos_dv - mod_fa2_dv\n",
    "modshiftval4_dv = mod_sig_sec_dv / mod_fred_dv - mod_fa1_dv\n",
    "modshiftval5_dv = mod_sig_sec_dv - mod_sig_ter_dv - mod_fa2_dv\n",
    "modshiftval6_dv = mod_sig_sec_dv-mod_sig_pos_dv - mod_fa2_dv\n",
    "\n",
    "print mod_sig_pri_dv, mod_fred_dv, mod_fa1_dv\n",
    "print modshiftval1_dv, modshiftval2_dv, modshiftval3_dv\n",
    "print modshiftval4_dv, modshiftval5_dv, modshiftval6_dv"
   ]
  },
  {
   "cell_type": "code",
   "execution_count": null,
   "metadata": {
    "collapsed": false
   },
   "outputs": [],
   "source": [
    "#estimate v(n) - corellation coefficnets between points\n",
    "#remove points in transit\n",
    "# need to work in time series\n",
    "plt.scatter(data[\"Time\"], data[\"Flux\"])\n",
    "data2 = data.copy()\n"
   ]
  },
  {
   "cell_type": "code",
   "execution_count": null,
   "metadata": {
    "collapsed": false
   },
   "outputs": [],
   "source": [
    "print mod_sig_pri_dv, transit_period/2\n",
    "slope = mod_sig_pri_dv/ (transit_period/2)\n",
    "print slope\n",
    "#remove this value from anything inside the transit duration\n",
    "#doing a box least square model"
   ]
  },
  {
   "cell_type": "code",
   "execution_count": null,
   "metadata": {
    "collapsed": false
   },
   "outputs": [],
   "source": [
    "removed_trans = np.empty(shape=[0, 4])\n",
    "print removed_trans\n",
    "#print removed_trans.shape\n",
    "\n",
    "values= data.as_matrix().copy()\n",
    "#print values\n",
    "#\n",
    "#print values\n",
    "for vals in values:\n",
    "    vals = vals.reshape([1, 4])\n",
    "    \n",
    "    if (vals[0][3] > 0 + half_trans) and (vals[0][3]< 1-half_trans):\n",
    "\n",
    "        removed_trans = np.concatenate([removed_trans, vals], axis = 0)\n",
    "    else:\n",
    "        if vals[0][3] > 0.5:\n",
    "            vals[0][1]-= (half_trans - np.abs((vals[0][3]-1))) *slope *1.5\n",
    "      \n",
    "        else:\n",
    "            vals[0][1]-= (half_trans - np.abs((vals[0][3] )))* slope *1.5\n",
    "            #print \"phase\", vals[0][3], \"flux\", vals[0][1]\n",
    "            #print \"\\n\"\n",
    "\n",
    "       \n",
    "        removed_trans = np.concatenate([removed_trans, vals], axis = 0)\n",
    "print np.where((removed_trans==data.values)==False)\n",
    "\n",
    "print removed_trans.shape, data.shape\n",
    "plt.scatter(removed_trans[:,0], removed_trans[:,1])\n",
    "#plt.figure()\n",
    "#plt.scatter(data[\"Time\"], data[\"Flux\"], marker=\".\")"
   ]
  },
  {
   "cell_type": "code",
   "execution_count": null,
   "metadata": {
    "collapsed": false
   },
   "outputs": [],
   "source": [
    "removed_trans = np.empty(shape=[0, 4])\n",
    "print removed_trans\n",
    "#print removed_trans.shape\n",
    "\n",
    "values= data.as_matrix()\n",
    "values = data.as_matrix().copy()\n",
    "#print values\n",
    "#\n",
    "#print values\n",
    "for i,vals in enumerate(values):\n",
    "    vals = vals.reshape([1, 4])\n",
    "    if (vals[0][3] > 0 + half_trans) and (vals[0][3]< 1-half_trans):\n",
    "        #print removed_trans.shape, vals.shape\n",
    "        #print vals.shape, removed_trans.shape\n",
    "        removed_trans = np.concatenate([removed_trans, vals], axis = 0)\n",
    "    else:\n",
    "        removed_trans = np.concatenate([removed_trans, vals], axis = 0)\n",
    "    #print vals.flatten() ==  data.loc[i].values#[i,:]\n",
    "    #print \"\\n\"\n",
    "    \n",
    "       \n",
    "print removed_trans.shape, data.shape\n",
    "print np.where((removed_trans==data.values)==False)\n",
    "plt.scatter(removed_trans[:,0], removed_trans[:,1])\n",
    "#plt.figure()\n",
    "plt.scatter(data[\"Time\"], data[\"Flux\"], marker=\".\")"
   ]
  },
  {
   "cell_type": "code",
   "execution_count": null,
   "metadata": {
    "collapsed": false
   },
   "outputs": [],
   "source": [
    "# caluclate mean flux over sliding interval equal to transit duration\n",
    "#keep track of points in each window\n",
    "#slide over at a pace equal less than transit duration\n",
    "l = transit_period\n",
    "mean_flux = []\n",
    "points = []\n",
    "removed_trans = pd.DataFrame(removed_trans, columns=data.columns)\n",
    "for i, vals in enumerate(removed_trans.as_matrix()):\n",
    "    #print removed_trans[\"Time\"]\n",
    "    points.append( len(removed_trans[\"Flux\"][(removed_trans[\"Time\"]> vals[0] )\n",
    "                        & (removed_trans[\"Time\"] < vals[0] + l)]))\n",
    "    mean_flux.append ( np.mean( removed_trans[\"Flux\"][(removed_trans[\"Time\"]> vals[0] )\n",
    "                        & (removed_trans[\"Time\"] < vals[0] + l)]))\n",
    "print mean_flux\n",
    "    \n",
    "#points_flux = zip(points, mean_flux)\n",
    "#point_counts =  np.linspace(0,10,11)\n",
    "#print points\n",
    "#places = np.digitize(points_flux, np.linspace(0,20, 21))\n",
    "#indices =  places[:,0] -1\n",
    "#indices = indices.astype(int)\n",
    "#print mean_flux\n",
    "#values = [[x] for x in point_counts ]\n",
    "#for i in point_counts:\n",
    "#    for j in (indices):\n",
    "        #print i, j\n",
    "#        if int(i) ==int(j):\n",
    "            #print i, j \n",
    "            #print mean_flux[j]\n",
    "#            values[int(i)].append(mean_flux[j])\n",
    "        #break\n",
    "    #break\n",
    "            \n",
    "#print values\n",
    "#stds = [np.std(x[1:]) for x in values]\n",
    "#print stds"
   ]
  },
  {
   "cell_type": "code",
   "execution_count": null,
   "metadata": {
    "collapsed": false
   },
   "outputs": [],
   "source": [
    "#each individual point noise would be the binned noise?\n",
    "smooth_y_err = np.asarray(smooth_y_err)\n",
    "smooth_y_err.shape, removed_trans.shape"
   ]
  },
  {
   "cell_type": "code",
   "execution_count": null,
   "metadata": {
    "collapsed": true
   },
   "outputs": [],
   "source": []
  }
 ],
 "metadata": {
  "anaconda-cloud": {},
  "kernelspec": {
   "display_name": "Python [conda root]",
   "language": "python",
   "name": "conda-root-py"
  },
  "language_info": {
   "codemirror_mode": {
    "name": "ipython",
    "version": 2
   },
   "file_extension": ".py",
   "mimetype": "text/x-python",
   "name": "python",
   "nbconvert_exporter": "python",
   "pygments_lexer": "ipython2",
   "version": "2.7.12"
  }
 },
 "nbformat": 4,
 "nbformat_minor": 1
}
